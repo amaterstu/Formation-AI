{
 "cells": [
  {
   "cell_type": "code",
   "execution_count": null,
   "id": "43f49e79",
   "metadata": {},
   "outputs": [],
   "source": [
    "# convert float to int\n",
    "# 1ere methode\n",
    "df['X'] = df['X'].astype(int)\n",
    "#2eme methode\n",
    "df['Y'] = df['Y'].aplly(lambda a : int(a))"
   ]
  }
 ],
 "metadata": {
  "kernelspec": {
   "display_name": "Python 3",
   "language": "python",
   "name": "python3"
  },
  "language_info": {
   "codemirror_mode": {
    "name": "ipython",
    "version": 3
   },
   "file_extension": ".py",
   "mimetype": "text/x-python",
   "name": "python",
   "nbconvert_exporter": "python",
   "pygments_lexer": "ipython3",
   "version": "3.8.8"
  }
 },
 "nbformat": 4,
 "nbformat_minor": 5
}
