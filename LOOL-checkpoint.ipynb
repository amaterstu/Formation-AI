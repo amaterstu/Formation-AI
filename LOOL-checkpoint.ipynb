{
 "cells": [
  {
   "cell_type": "markdown",
   "id": "39136882",
   "metadata": {},
   "source": [
    "\n",
    "    QUESTION 1"
   ]
  },
  {
   "cell_type": "code",
   "execution_count": null,
   "id": "b3140c3d",
   "metadata": {},
   "outputs": [],
   "source": [
    "li =[]\n",
    "for i in range(2000,3201):\n",
    "    if (i%5 == 0) and (i%7 != 0) : \n",
    "     print(i)\n"
   ]
  },
  {
   "cell_type": "markdown",
   "id": "bb4a182d",
   "metadata": {},
   "source": [
    "QUESTION 2"
   ]
  },
  {
   "cell_type": "code",
   "execution_count": 2,
   "id": "b929a08f",
   "metadata": {},
   "outputs": [
    {
     "name": "stdout",
     "output_type": "stream",
     "text": [
      "enter a number -1\n",
      "the factorial does not exist\n"
     ]
    }
   ],
   "source": [
    "num = int(input(\"enter a number \"))\n",
    "factorial = 1\n",
    "\n",
    "if num == 0 :\n",
    "    print(\"the factorial of 0 is 1\")\n",
    "elif num < 0 :\n",
    "    print(\"the factorial does not exist\")\n",
    "    \n",
    "else :\n",
    "    for i in range(1 , num + 1) : \n",
    "      factorial = i*factorial\n",
    "    print(\"the factorial of\",num , \"is\", factorial )\n",
    "        \n",
    "        "
   ]
  },
  {
   "cell_type": "markdown",
   "id": "00591b53",
   "metadata": {},
   "source": [
    "QUESTION 3"
   ]
  },
  {
   "cell_type": "code",
   "execution_count": 41,
   "id": "10a2da7b",
   "metadata": {},
   "outputs": [
    {
     "name": "stdout",
     "output_type": "stream",
     "text": [
      "8\n",
      "{1: 1}\n",
      "{1: 1, 2: 4}\n",
      "{1: 1, 2: 4, 3: 9}\n",
      "{1: 1, 2: 4, 3: 9, 4: 16}\n",
      "{1: 1, 2: 4, 3: 9, 4: 16, 5: 25}\n",
      "{1: 1, 2: 4, 3: 9, 4: 16, 5: 25, 6: 36}\n",
      "{1: 1, 2: 4, 3: 9, 4: 16, 5: 25, 6: 36, 7: 49}\n",
      "{1: 1, 2: 4, 3: 9, 4: 16, 5: 25, 6: 36, 7: 49, 8: 64}\n"
     ]
    }
   ],
   "source": [
    "n=int(input())\n",
    "dict = {}\n",
    "for i in range(1,n+1):\n",
    "    dict[i]= i**2\n",
    "    print(dict)\n"
   ]
  },
  {
   "cell_type": "markdown",
   "id": "9ac8aa7a",
   "metadata": {},
   "source": [
    "QUESTION 4"
   ]
  },
  {
   "cell_type": "code",
   "execution_count": 61,
   "id": "180940b8",
   "metadata": {},
   "outputs": [
    {
     "name": "stdout",
     "output_type": "stream",
     "text": [
      "[2, 3]\n"
     ]
    }
   ],
   "source": [
    "import numpy as np\n",
    "from array import *\n",
    "def array_to_list(convert):\n",
    "    cnver_list = convert.tolist()\n",
    "    print(cnver_list)\n",
    "\n",
    "convert = array('i',[2,3]) \n",
    "array_to_list(convert)\n",
    "    \n",
    "\n"
   ]
  },
  {
   "cell_type": "markdown",
   "id": "a889bfc9",
   "metadata": {},
   "source": [
    "QUESTION 5"
   ]
  },
  {
   "cell_type": "code",
   "execution_count": 3,
   "id": "586a70b4",
   "metadata": {},
   "outputs": [],
   "source": [
    "def remove_char(str, n):\n",
    "      first_part = str[:n] \n",
    "      last_part = str[n+1:]\n",
    "      return first_part + last_part\n"
   ]
  },
  {
   "cell_type": "markdown",
   "id": "4e0bde7c",
   "metadata": {},
   "source": [
    "QUESTION 6"
   ]
  },
  {
   "cell_type": "code",
   "execution_count": 4,
   "id": "d5bc6858",
   "metadata": {},
   "outputs": [
    {
     "data": {
      "text/plain": [
       "array([[ 1., -1.],\n",
       "       [-1.,  1.]])"
      ]
     },
     "execution_count": 4,
     "metadata": {},
     "output_type": "execute_result"
    }
   ],
   "source": [
    "import numpy as np\n",
    "x=original_array1 = [0,1,2]\n",
    "y=original_array2 = [2,1,0]\n",
    "np.cov(x,y)\n"
   ]
  },
  {
   "cell_type": "markdown",
   "id": "2a82098b",
   "metadata": {},
   "source": [
    "QUESTION 7 "
   ]
  },
  {
   "cell_type": "code",
   "execution_count": 33,
   "id": "091c30ae",
   "metadata": {},
   "outputs": [
    {
     "data": {
      "text/plain": [
       "[18, 22, 24]"
      ]
     },
     "execution_count": 33,
     "metadata": {},
     "output_type": "execute_result"
    }
   ],
   "source": [
    "from numpy import *\n",
    "import math\n",
    "def question7(D) : \n",
    "    Dlist = D.split(',')\n",
    "    C = 50\n",
    "    H = 30\n",
    "    li = []\n",
    "    for x in Dlist :\n",
    "        y = math.sqrt((2 * C * int(x)/H))\n",
    "        z = li.append(int(y))\n",
    "    return li\n",
    "question7(\"100,150,180\")\n",
    "        \n",
    "\n",
    "\n",
    "    \n",
    "   "
   ]
  },
  {
   "cell_type": "code",
   "execution_count": null,
   "id": "d3aa3398",
   "metadata": {},
   "outputs": [],
   "source": []
  },
  {
   "cell_type": "code",
   "execution_count": null,
   "id": "f68ec385",
   "metadata": {},
   "outputs": [],
   "source": []
  }
 ],
 "metadata": {
  "kernelspec": {
   "display_name": "Python 3",
   "language": "python",
   "name": "python3"
  },
  "language_info": {
   "codemirror_mode": {
    "name": "ipython",
    "version": 3
   },
   "file_extension": ".py",
   "mimetype": "text/x-python",
   "name": "python",
   "nbconvert_exporter": "python",
   "pygments_lexer": "ipython3",
   "version": "3.8.8"
  }
 },
 "nbformat": 4,
 "nbformat_minor": 5
}
